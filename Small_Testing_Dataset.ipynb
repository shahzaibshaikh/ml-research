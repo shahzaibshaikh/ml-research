{
 "cells": [
  {
   "cell_type": "code",
   "execution_count": 2,
   "id": "db02ddc2-d20c-47b3-bc9f-d22c04d24f07",
   "metadata": {},
   "outputs": [
    {
     "name": "stdout",
     "output_type": "stream",
     "text": [
      "Original dataset shape: (576000, 34)\n",
      "Subset saved to test_collected_data.csv with shape: (3360, 34)\n"
     ]
    }
   ],
   "source": [
    "import pandas as pd\n",
    "\n",
    "# Load your extended dataset\n",
    "# Replace 'path_to_your_extended_dataset.csv' with the actual file path of your dataset\n",
    "extended_dataset_path = '~/Downloads/Extended_Collected_Data.csv'  # Change this path as needed\n",
    "extended_data = pd.read_csv(extended_dataset_path)\n",
    "\n",
    "# Check the shape of the dataset\n",
    "print(f\"Original dataset shape: {extended_data.shape}\")\n",
    "\n",
    "# Keep only the last 2880 records\n",
    "test_data = extended_data.tail(3360)\n",
    "\n",
    "# Save the subset to a new CSV file\n",
    "output_path = 'test_collected_data.csv'\n",
    "test_data.to_csv(output_path, index=False)\n",
    "\n",
    "# Confirm the save and show the shape of the new dataset\n",
    "print(f\"Subset saved to {output_path} with shape: {test_data.shape}\")\n"
   ]
  },
  {
   "cell_type": "code",
   "execution_count": null,
   "id": "a18e2632-34db-4a07-8743-5fd62c8f904e",
   "metadata": {},
   "outputs": [],
   "source": []
  }
 ],
 "metadata": {
  "kernelspec": {
   "display_name": "Python 3 (ipykernel)",
   "language": "python",
   "name": "python3"
  },
  "language_info": {
   "codemirror_mode": {
    "name": "ipython",
    "version": 3
   },
   "file_extension": ".py",
   "mimetype": "text/x-python",
   "name": "python",
   "nbconvert_exporter": "python",
   "pygments_lexer": "ipython3",
   "version": "3.12.7"
  }
 },
 "nbformat": 4,
 "nbformat_minor": 5
}
