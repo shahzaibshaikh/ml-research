{
 "cells": [
  {
   "cell_type": "code",
   "execution_count": 1,
   "id": "1844ab47-61e5-4fda-b172-a0db3856c513",
   "metadata": {},
   "outputs": [
    {
     "name": "stdout",
     "output_type": "stream",
     "text": [
      "F:\\University\\Master's Thesis\\Datasets\\rnd\n"
     ]
    }
   ],
   "source": [
    "%cd \"F:\\University\\Master's Thesis\\Datasets\\rnd\""
   ]
  },
  {
   "cell_type": "code",
   "execution_count": 44,
   "id": "0ad390a1-f7bf-4fcd-8971-98b52689828c",
   "metadata": {},
   "outputs": [],
   "source": [
    "import pandas as pd\n",
    "from sklearn.model_selection import train_test_split\n",
    "from sklearn.metrics import accuracy_score\n",
    "from sklearn.preprocessing import OneHotEncoder, LabelEncoder\n",
    "from sklearn import svm, ensemble, neural_network, naive_bayes, neighbors"
   ]
  },
  {
   "cell_type": "code",
   "execution_count": 34,
   "id": "b2dae177-0800-4fa6-bcb2-7d9c5d832b94",
   "metadata": {},
   "outputs": [
    {
     "data": {
      "text/html": [
       "<div>\n",
       "<style scoped>\n",
       "    .dataframe tbody tr th:only-of-type {\n",
       "        vertical-align: middle;\n",
       "    }\n",
       "\n",
       "    .dataframe tbody tr th {\n",
       "        vertical-align: top;\n",
       "    }\n",
       "\n",
       "    .dataframe thead th {\n",
       "        text-align: right;\n",
       "    }\n",
       "</style>\n",
       "<table border=\"1\" class=\"dataframe\">\n",
       "  <thead>\n",
       "    <tr style=\"text-align: right;\">\n",
       "      <th></th>\n",
       "      <th>Timestamp [s]</th>\n",
       "      <th>CPU usage [%]</th>\n",
       "      <th>Memory usage [%]</th>\n",
       "      <th>Failure Classification</th>\n",
       "    </tr>\n",
       "  </thead>\n",
       "  <tbody>\n",
       "    <tr>\n",
       "      <th>0</th>\n",
       "      <td>2013-06-30 22:03:00</td>\n",
       "      <td>0.000000</td>\n",
       "      <td>6.500000</td>\n",
       "      <td>Memory Low, CPU Low</td>\n",
       "    </tr>\n",
       "    <tr>\n",
       "      <th>1</th>\n",
       "      <td>2013-06-30 22:04:00</td>\n",
       "      <td>0.066578</td>\n",
       "      <td>6.536489</td>\n",
       "      <td>Memory Low, CPU Low</td>\n",
       "    </tr>\n",
       "    <tr>\n",
       "      <th>2</th>\n",
       "      <td>2013-06-30 22:05:00</td>\n",
       "      <td>0.157880</td>\n",
       "      <td>6.586528</td>\n",
       "      <td>Memory Low, CPU Low</td>\n",
       "    </tr>\n",
       "    <tr>\n",
       "      <th>3</th>\n",
       "      <td>2013-06-30 22:06:00</td>\n",
       "      <td>0.220217</td>\n",
       "      <td>6.620693</td>\n",
       "      <td>Memory Low, CPU Low</td>\n",
       "    </tr>\n",
       "    <tr>\n",
       "      <th>4</th>\n",
       "      <td>2013-06-30 22:07:00</td>\n",
       "      <td>0.259892</td>\n",
       "      <td>6.642437</td>\n",
       "      <td>Memory Low, CPU Low</td>\n",
       "    </tr>\n",
       "    <tr>\n",
       "      <th>...</th>\n",
       "      <td>...</td>\n",
       "      <td>...</td>\n",
       "      <td>...</td>\n",
       "      <td>...</td>\n",
       "    </tr>\n",
       "    <tr>\n",
       "      <th>239030</th>\n",
       "      <td>2013-12-13 21:53:00</td>\n",
       "      <td>5.958158</td>\n",
       "      <td>11.280959</td>\n",
       "      <td>Memory Low, CPU Low</td>\n",
       "    </tr>\n",
       "    <tr>\n",
       "      <th>239031</th>\n",
       "      <td>2013-12-13 21:54:00</td>\n",
       "      <td>6.337063</td>\n",
       "      <td>11.567609</td>\n",
       "      <td>Memory Low, CPU Low</td>\n",
       "    </tr>\n",
       "    <tr>\n",
       "      <th>239032</th>\n",
       "      <td>2013-12-13 21:55:00</td>\n",
       "      <td>7.714891</td>\n",
       "      <td>12.674611</td>\n",
       "      <td>Memory Low, CPU Low</td>\n",
       "    </tr>\n",
       "    <tr>\n",
       "      <th>239033</th>\n",
       "      <td>2013-12-13 21:56:00</td>\n",
       "      <td>10.173214</td>\n",
       "      <td>14.600788</td>\n",
       "      <td>Memory Low, CPU Low</td>\n",
       "    </tr>\n",
       "    <tr>\n",
       "      <th>239034</th>\n",
       "      <td>2013-12-13 21:57:00</td>\n",
       "      <td>6.841250</td>\n",
       "      <td>11.982732</td>\n",
       "      <td>Memory Low, CPU Low</td>\n",
       "    </tr>\n",
       "  </tbody>\n",
       "</table>\n",
       "<p>239035 rows × 4 columns</p>\n",
       "</div>"
      ],
      "text/plain": [
       "              Timestamp [s]  CPU usage [%]  Memory usage [%]  \\\n",
       "0       2013-06-30 22:03:00       0.000000          6.500000   \n",
       "1       2013-06-30 22:04:00       0.066578          6.536489   \n",
       "2       2013-06-30 22:05:00       0.157880          6.586528   \n",
       "3       2013-06-30 22:06:00       0.220217          6.620693   \n",
       "4       2013-06-30 22:07:00       0.259892          6.642437   \n",
       "...                     ...            ...               ...   \n",
       "239030  2013-12-13 21:53:00       5.958158         11.280959   \n",
       "239031  2013-12-13 21:54:00       6.337063         11.567609   \n",
       "239032  2013-12-13 21:55:00       7.714891         12.674611   \n",
       "239033  2013-12-13 21:56:00      10.173214         14.600788   \n",
       "239034  2013-12-13 21:57:00       6.841250         11.982732   \n",
       "\n",
       "       Failure Classification  \n",
       "0         Memory Low, CPU Low  \n",
       "1         Memory Low, CPU Low  \n",
       "2         Memory Low, CPU Low  \n",
       "3         Memory Low, CPU Low  \n",
       "4         Memory Low, CPU Low  \n",
       "...                       ...  \n",
       "239030    Memory Low, CPU Low  \n",
       "239031    Memory Low, CPU Low  \n",
       "239032    Memory Low, CPU Low  \n",
       "239033    Memory Low, CPU Low  \n",
       "239034    Memory Low, CPU Low  \n",
       "\n",
       "[239035 rows x 4 columns]"
      ]
     },
     "execution_count": 34,
     "metadata": {},
     "output_type": "execute_result"
    }
   ],
   "source": [
    "import copy\n",
    "from pathlib import Path\n",
    "\n",
    "# List of columns you want to read\n",
    "selected_columns = [\"Timestamp [s]\", \"CPU usage [%]\", \"Memory usage [%]\", \"Failure Classification\"]\n",
    "\n",
    "file_path = 'VM001.csv'\n",
    "df = pd.read_csv(file_path, usecols=selected_columns)\n",
    "df.head(-1)"
   ]
  },
  {
   "cell_type": "code",
   "execution_count": 48,
   "id": "ce6126a3-aee4-4ea0-bcb2-40f6c7da4188",
   "metadata": {},
   "outputs": [
    {
     "name": "stderr",
     "output_type": "stream",
     "text": [
      "F:\\Software\\Anaconda\\envs\\deeplearning-env\\lib\\site-packages\\sklearn\\preprocessing\\_encoders.py:975: FutureWarning: `sparse` was renamed to `sparse_output` in version 1.2 and will be removed in 1.4. `sparse_output` is ignored unless you leave `sparse` to its default value.\n",
      "  warnings.warn(\n"
     ]
    }
   ],
   "source": [
    "# Split the data into features (X) and target label (y)\n",
    "X = df[['Memory usage [%]', 'CPU usage [%]']]\n",
    "\n",
    "# Encode the categorical target variable using OneHotEncoder\n",
    "encoder = OneHotEncoder(sparse=False, drop='first')\n",
    "y_encoded = encoder.fit_transform(df[['Failure Classification']].values.reshape(-1, 1))\n",
    "\n",
    "# Create a DataFrame with the one-hot encoded columns\n",
    "y = pd.DataFrame(y_encoded, columns=encoder.get_feature_names_out(['Failure Classification']))\n",
    "\n",
    "y = y.idxmax(axis=1)\n",
    "\n",
    "# Split the data into training and testing sets\n",
    "X_train, X_test, y_train, y_test = train_test_split(X, y, test_size=0.2, random_state=42)\n"
   ]
  },
  {
   "cell_type": "code",
   "execution_count": 49,
   "id": "164acc88-f6a9-42a2-9933-69c490650749",
   "metadata": {},
   "outputs": [
    {
     "name": "stdout",
     "output_type": "stream",
     "text": [
      "SVM Accuracy: 0.9982429718875502\n"
     ]
    }
   ],
   "source": [
    "# Support Vector Machine (SVM)\n",
    "svm_classifier = svm.SVC()\n",
    "svm_classifier.fit(X_train, y_train)\n",
    "y_pred_svm = svm_classifier.predict(X_test)\n",
    "accuracy_svm = accuracy_score(y_test, y_pred_svm)\n",
    "print(f'SVM Accuracy: {accuracy_svm}')"
   ]
  },
  {
   "cell_type": "code",
   "execution_count": 50,
   "id": "e4093bed-cec8-4258-8d62-da0cdca596fc",
   "metadata": {},
   "outputs": [
    {
     "name": "stdout",
     "output_type": "stream",
     "text": [
      "Random Forest Accuracy: 0.9999790829986613\n"
     ]
    }
   ],
   "source": [
    "# Random Forest\n",
    "rf_classifier = ensemble.RandomForestClassifier(n_estimators=100, random_state=42)\n",
    "rf_classifier.fit(X_train, y_train)\n",
    "y_pred_rf = rf_classifier.predict(X_test)\n",
    "accuracy_rf = accuracy_score(y_test, y_pred_rf)\n",
    "print(f'Random Forest Accuracy: {accuracy_rf}')"
   ]
  },
  {
   "cell_type": "code",
   "execution_count": 51,
   "id": "6f6a8947-7b52-458d-b20d-d17e5d5e9547",
   "metadata": {},
   "outputs": [
    {
     "name": "stdout",
     "output_type": "stream",
     "text": [
      "ANN Accuracy: 0.9956492637215528\n"
     ]
    }
   ],
   "source": [
    "# Artificial Neural Network (ANN)\n",
    "mlp_classifier = neural_network.MLPClassifier(hidden_layer_sizes=(100,), max_iter=1000, random_state=42)\n",
    "mlp_classifier.fit(X_train, y_train)\n",
    "y_pred_mlp = mlp_classifier.predict(X_test)\n",
    "accuracy_mlp = accuracy_score(y_test, y_pred_mlp)\n",
    "print(f'ANN Accuracy: {accuracy_mlp}')"
   ]
  },
  {
   "cell_type": "code",
   "execution_count": 52,
   "id": "7b30cb0b-ea27-4915-ab73-b933336b0a51",
   "metadata": {},
   "outputs": [
    {
     "name": "stdout",
     "output_type": "stream",
     "text": [
      "Naive Bayes Accuracy: 0.967411311914324\n"
     ]
    }
   ],
   "source": [
    "# Naive Bayes\n",
    "nb_classifier = naive_bayes.GaussianNB()\n",
    "nb_classifier.fit(X_train, y_train)\n",
    "y_pred_nb = nb_classifier.predict(X_test)\n",
    "accuracy_nb = accuracy_score(y_test, y_pred_nb)\n",
    "print(f'Naive Bayes Accuracy: {accuracy_nb}')"
   ]
  },
  {
   "cell_type": "code",
   "execution_count": 53,
   "id": "8a3e3573-7db1-45c1-b3d5-2dc623fc8c3b",
   "metadata": {},
   "outputs": [
    {
     "name": "stdout",
     "output_type": "stream",
     "text": [
      "KNN Accuracy: 0.9976572958500669\n"
     ]
    }
   ],
   "source": [
    "# K-Nearest Neighbors (KNN)\n",
    "knn_classifier = neighbors.KNeighborsClassifier(n_neighbors=5)\n",
    "knn_classifier.fit(X_train, y_train)\n",
    "y_pred_knn = knn_classifier.predict(X_test)\n",
    "accuracy_knn = accuracy_score(y_test, y_pred_knn)\n",
    "print(f'KNN Accuracy: {accuracy_knn}')"
   ]
  },
  {
   "cell_type": "code",
   "execution_count": 54,
   "id": "f1bca569-e4b6-4a3c-b254-3043c8cd089d",
   "metadata": {},
   "outputs": [],
   "source": [
    "# Testing on a model\n",
    "# Given data\n",
    "data = {\n",
    "    'Memory usage [%]': [45.777958, 71.982993, 72.224752, 72.135143, 72.427164, 34.359488, 72.581069, 12.346585, 72.267944, 23.095423, 72.295631, 18.39634, 23.972726],\n",
    "    'CPU usage [%]': [4.007266, 14.0537, 34.058797, 44.361495, 53.926062, 84.143917, 14.07761, 94.304139, 14.215333, 4.066917, 34.196585, 24.232192, 13.875389]\n",
    "}\n",
    "\n",
    "# Create DataFrame\n",
    "df = pd.DataFrame(data)\n",
    "\n",
    "y_pred_rf = rf_classifier.predict(df)"
   ]
  },
  {
   "cell_type": "code",
   "execution_count": 55,
   "id": "498f3740-b1b6-44a7-9a53-91849107bf21",
   "metadata": {},
   "outputs": [
    {
     "name": "stdout",
     "output_type": "stream",
     "text": [
      "Memory Normal, CPU Low\n",
      "Memory High, CPU Low\n",
      "Memory High, CPU Normal\n",
      "Memory High, CPU Normal\n",
      "Memory High, CPU Normal\n",
      "Memory Normal, CPU High\n",
      "Memory High, CPU Low\n",
      "Memory Low, CPU High\n",
      "Memory High, CPU Low\n",
      "Memory Normal, CPU Low\n",
      "Memory High, CPU Normal\n",
      "Memory Low, CPU Normal\n",
      "Memory Normal, CPU Low\n"
     ]
    }
   ],
   "source": [
    "for i in y_pred_rf:\n",
    "    print(i.split(\"_\")[1])"
   ]
  },
  {
   "cell_type": "code",
   "execution_count": null,
   "id": "9e4100ce-e883-4959-9598-725aa7f1f25c",
   "metadata": {},
   "outputs": [],
   "source": []
  }
 ],
 "metadata": {
  "kernelspec": {
   "display_name": "Python 3 (ipykernel)",
   "language": "python",
   "name": "python3"
  },
  "language_info": {
   "codemirror_mode": {
    "name": "ipython",
    "version": 3
   },
   "file_extension": ".py",
   "mimetype": "text/x-python",
   "name": "python",
   "nbconvert_exporter": "python",
   "pygments_lexer": "ipython3",
   "version": "3.10.0"
  }
 },
 "nbformat": 4,
 "nbformat_minor": 5
}
