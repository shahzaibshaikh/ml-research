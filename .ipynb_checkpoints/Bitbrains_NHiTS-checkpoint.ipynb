{
 "cells": [
  {
   "cell_type": "code",
   "execution_count": 71,
   "id": "b495c289-6720-4242-83a2-cdf2526e76d1",
   "metadata": {},
   "outputs": [
    {
     "name": "stdout",
     "output_type": "stream",
     "text": [
      "F:\\University\\Master's Thesis\\Datasets\\rnd\n"
     ]
    }
   ],
   "source": [
    "%cd \"F:\\University\\Master's Thesis\\Datasets\\rnd\""
   ]
  },
  {
   "cell_type": "code",
   "execution_count": 17,
   "id": "67552ec1-13b6-4d7a-9d49-22a12f4b4123",
   "metadata": {
    "scrolled": true
   },
   "outputs": [
    {
     "name": "stdout",
     "output_type": "stream",
     "text": [
      "Requirement already satisfied: pytorch-lightning in f:\\software\\anaconda\\envs\\deeplearning-env\\lib\\site-packages (2.1.3)Note: you may need to restart the kernel to use updated packages.\n",
      "\n",
      "Requirement already satisfied: numpy>=1.17.2 in f:\\software\\anaconda\\envs\\deeplearning-env\\lib\\site-packages (from pytorch-lightning) (1.26.2)\n",
      "Requirement already satisfied: torch>=1.12.0 in f:\\software\\anaconda\\envs\\deeplearning-env\\lib\\site-packages (from pytorch-lightning) (2.1.2)\n",
      "Requirement already satisfied: tqdm>=4.57.0 in f:\\software\\anaconda\\envs\\deeplearning-env\\lib\\site-packages (from pytorch-lightning) (4.65.0)\n",
      "Requirement already satisfied: PyYAML>=5.4 in f:\\software\\anaconda\\envs\\deeplearning-env\\lib\\site-packages (from pytorch-lightning) (6.0.1)\n",
      "Requirement already satisfied: fsspec>=2022.5.0 in f:\\software\\anaconda\\envs\\deeplearning-env\\lib\\site-packages (from fsspec[http]>=2022.5.0->pytorch-lightning) (2023.10.0)\n",
      "Requirement already satisfied: torchmetrics>=0.7.0 in f:\\software\\anaconda\\envs\\deeplearning-env\\lib\\site-packages (from pytorch-lightning) (1.2.1)\n",
      "Requirement already satisfied: packaging>=20.0 in f:\\software\\anaconda\\envs\\deeplearning-env\\lib\\site-packages (from pytorch-lightning) (23.1)\n",
      "Requirement already satisfied: typing-extensions>=4.0.0 in f:\\software\\anaconda\\envs\\deeplearning-env\\lib\\site-packages (from pytorch-lightning) (4.9.0)\n",
      "Requirement already satisfied: lightning-utilities>=0.8.0 in f:\\software\\anaconda\\envs\\deeplearning-env\\lib\\site-packages (from pytorch-lightning) (0.10.0)\n",
      "Requirement already satisfied: requests in f:\\software\\anaconda\\envs\\deeplearning-env\\lib\\site-packages (from fsspec[http]>=2022.5.0->pytorch-lightning) (2.31.0)\n",
      "Requirement already satisfied: aiohttp!=4.0.0a0,!=4.0.0a1 in f:\\software\\anaconda\\envs\\deeplearning-env\\lib\\site-packages (from fsspec[http]>=2022.5.0->pytorch-lightning) (3.9.0)\n",
      "Requirement already satisfied: setuptools in f:\\software\\anaconda\\envs\\deeplearning-env\\lib\\site-packages (from lightning-utilities>=0.8.0->pytorch-lightning) (68.2.2)\n",
      "Requirement already satisfied: filelock in f:\\software\\anaconda\\envs\\deeplearning-env\\lib\\site-packages (from torch>=1.12.0->pytorch-lightning) (3.13.1)\n",
      "Requirement already satisfied: sympy in f:\\software\\anaconda\\envs\\deeplearning-env\\lib\\site-packages (from torch>=1.12.0->pytorch-lightning) (1.12)\n",
      "Requirement already satisfied: networkx in f:\\software\\anaconda\\envs\\deeplearning-env\\lib\\site-packages (from torch>=1.12.0->pytorch-lightning) (3.1)\n",
      "Requirement already satisfied: jinja2 in f:\\software\\anaconda\\envs\\deeplearning-env\\lib\\site-packages (from torch>=1.12.0->pytorch-lightning) (3.1.2)\n",
      "Requirement already satisfied: colorama in f:\\software\\anaconda\\envs\\deeplearning-env\\lib\\site-packages (from tqdm>=4.57.0->pytorch-lightning) (0.4.6)\n",
      "Requirement already satisfied: attrs>=17.3.0 in f:\\software\\anaconda\\envs\\deeplearning-env\\lib\\site-packages (from aiohttp!=4.0.0a0,!=4.0.0a1->fsspec[http]>=2022.5.0->pytorch-lightning) (23.1.0)\n",
      "Requirement already satisfied: multidict<7.0,>=4.5 in f:\\software\\anaconda\\envs\\deeplearning-env\\lib\\site-packages (from aiohttp!=4.0.0a0,!=4.0.0a1->fsspec[http]>=2022.5.0->pytorch-lightning) (6.0.4)\n",
      "Requirement already satisfied: yarl<2.0,>=1.0 in f:\\software\\anaconda\\envs\\deeplearning-env\\lib\\site-packages (from aiohttp!=4.0.0a0,!=4.0.0a1->fsspec[http]>=2022.5.0->pytorch-lightning) (1.9.3)\n",
      "Requirement already satisfied: frozenlist>=1.1.1 in f:\\software\\anaconda\\envs\\deeplearning-env\\lib\\site-packages (from aiohttp!=4.0.0a0,!=4.0.0a1->fsspec[http]>=2022.5.0->pytorch-lightning) (1.4.0)\n",
      "Requirement already satisfied: aiosignal>=1.1.2 in f:\\software\\anaconda\\envs\\deeplearning-env\\lib\\site-packages (from aiohttp!=4.0.0a0,!=4.0.0a1->fsspec[http]>=2022.5.0->pytorch-lightning) (1.2.0)\n",
      "Requirement already satisfied: async-timeout<5.0,>=4.0 in f:\\software\\anaconda\\envs\\deeplearning-env\\lib\\site-packages (from aiohttp!=4.0.0a0,!=4.0.0a1->fsspec[http]>=2022.5.0->pytorch-lightning) (4.0.3)\n",
      "Requirement already satisfied: MarkupSafe>=2.0 in f:\\software\\anaconda\\envs\\deeplearning-env\\lib\\site-packages (from jinja2->torch>=1.12.0->pytorch-lightning) (2.1.1)\n",
      "Requirement already satisfied: charset-normalizer<4,>=2 in f:\\software\\anaconda\\envs\\deeplearning-env\\lib\\site-packages (from requests->fsspec[http]>=2022.5.0->pytorch-lightning) (2.0.4)\n",
      "Requirement already satisfied: idna<4,>=2.5 in f:\\software\\anaconda\\envs\\deeplearning-env\\lib\\site-packages (from requests->fsspec[http]>=2022.5.0->pytorch-lightning) (3.4)\n",
      "Requirement already satisfied: urllib3<3,>=1.21.1 in f:\\software\\anaconda\\envs\\deeplearning-env\\lib\\site-packages (from requests->fsspec[http]>=2022.5.0->pytorch-lightning) (1.26.18)\n",
      "Requirement already satisfied: certifi>=2017.4.17 in f:\\software\\anaconda\\envs\\deeplearning-env\\lib\\site-packages (from requests->fsspec[http]>=2022.5.0->pytorch-lightning) (2023.11.17)\n",
      "Requirement already satisfied: mpmath>=0.19 in f:\\software\\anaconda\\envs\\deeplearning-env\\lib\\site-packages (from sympy->torch>=1.12.0->pytorch-lightning) (1.3.0)\n",
      "Requirement already satisfied: lightning in f:\\software\\anaconda\\envs\\deeplearning-env\\lib\\site-packages (2.1.3)\n",
      "Requirement already satisfied: PyYAML<8.0,>=5.4 in f:\\software\\anaconda\\envs\\deeplearning-env\\lib\\site-packages (from lightning) (6.0.1)\n",
      "Requirement already satisfied: fsspec<2025.0,>=2022.5.0 in f:\\software\\anaconda\\envs\\deeplearning-env\\lib\\site-packages (from fsspec[http]<2025.0,>=2022.5.0->lightning) (2023.10.0)\n",
      "Requirement already satisfied: lightning-utilities<2.0,>=0.8.0 in f:\\software\\anaconda\\envs\\deeplearning-env\\lib\\site-packages (from lightning) (0.10.0)\n",
      "Requirement already satisfied: numpy<3.0,>=1.17.2 in f:\\software\\anaconda\\envs\\deeplearning-env\\lib\\site-packages (from lightning) (1.26.2)\n",
      "Requirement already satisfied: packaging<25.0,>=20.0 in f:\\software\\anaconda\\envs\\deeplearning-env\\lib\\site-packages (from lightning) (23.1)\n",
      "Requirement already satisfied: torch<4.0,>=1.12.0 in f:\\software\\anaconda\\envs\\deeplearning-env\\lib\\site-packages (from lightning) (2.1.2)\n",
      "Requirement already satisfied: torchmetrics<3.0,>=0.7.0 in f:\\software\\anaconda\\envs\\deeplearning-env\\lib\\site-packages (from lightning) (1.2.1)\n",
      "Requirement already satisfied: tqdm<6.0,>=4.57.0 in f:\\software\\anaconda\\envs\\deeplearning-env\\lib\\site-packages (from lightning) (4.65.0)\n",
      "Requirement already satisfied: typing-extensions<6.0,>=4.0.0 in f:\\software\\anaconda\\envs\\deeplearning-env\\lib\\site-packages (from lightning) (4.9.0)\n",
      "Requirement already satisfied: pytorch-lightning in f:\\software\\anaconda\\envs\\deeplearning-env\\lib\\site-packages (from lightning) (2.1.3)\n",
      "Requirement already satisfied: requests in f:\\software\\anaconda\\envs\\deeplearning-env\\lib\\site-packages (from fsspec[http]<2025.0,>=2022.5.0->lightning) (2.31.0)\n",
      "Requirement already satisfied: aiohttp!=4.0.0a0,!=4.0.0a1 in f:\\software\\anaconda\\envs\\deeplearning-env\\lib\\site-packages (from fsspec[http]<2025.0,>=2022.5.0->lightning) (3.9.0)\n",
      "Requirement already satisfied: setuptools in f:\\software\\anaconda\\envs\\deeplearning-env\\lib\\site-packages (from lightning-utilities<2.0,>=0.8.0->lightning) (68.2.2)\n",
      "Requirement already satisfied: filelock in f:\\software\\anaconda\\envs\\deeplearning-env\\lib\\site-packages (from torch<4.0,>=1.12.0->lightning) (3.13.1)\n",
      "Requirement already satisfied: sympy in f:\\software\\anaconda\\envs\\deeplearning-env\\lib\\site-packages (from torch<4.0,>=1.12.0->lightning) (1.12)\n",
      "Requirement already satisfied: networkx in f:\\software\\anaconda\\envs\\deeplearning-env\\lib\\site-packages (from torch<4.0,>=1.12.0->lightning) (3.1)\n",
      "Requirement already satisfied: jinja2 in f:\\software\\anaconda\\envs\\deeplearning-env\\lib\\site-packages (from torch<4.0,>=1.12.0->lightning) (3.1.2)\n",
      "Requirement already satisfied: colorama in f:\\software\\anaconda\\envs\\deeplearning-env\\lib\\site-packages (from tqdm<6.0,>=4.57.0->lightning) (0.4.6)\n",
      "Requirement already satisfied: attrs>=17.3.0 in f:\\software\\anaconda\\envs\\deeplearning-env\\lib\\site-packages (from aiohttp!=4.0.0a0,!=4.0.0a1->fsspec[http]<2025.0,>=2022.5.0->lightning) (23.1.0)\n",
      "Requirement already satisfied: multidict<7.0,>=4.5 in f:\\software\\anaconda\\envs\\deeplearning-env\\lib\\site-packages (from aiohttp!=4.0.0a0,!=4.0.0a1->fsspec[http]<2025.0,>=2022.5.0->lightning) (6.0.4)\n",
      "Requirement already satisfied: yarl<2.0,>=1.0 in f:\\software\\anaconda\\envs\\deeplearning-env\\lib\\site-packages (from aiohttp!=4.0.0a0,!=4.0.0a1->fsspec[http]<2025.0,>=2022.5.0->lightning) (1.9.3)\n",
      "Requirement already satisfied: frozenlist>=1.1.1 in f:\\software\\anaconda\\envs\\deeplearning-env\\lib\\site-packages (from aiohttp!=4.0.0a0,!=4.0.0a1->fsspec[http]<2025.0,>=2022.5.0->lightning) (1.4.0)\n",
      "Requirement already satisfied: aiosignal>=1.1.2 in f:\\software\\anaconda\\envs\\deeplearning-env\\lib\\site-packages (from aiohttp!=4.0.0a0,!=4.0.0a1->fsspec[http]<2025.0,>=2022.5.0->lightning) (1.2.0)\n",
      "Requirement already satisfied: async-timeout<5.0,>=4.0 in f:\\software\\anaconda\\envs\\deeplearning-env\\lib\\site-packages (from aiohttp!=4.0.0a0,!=4.0.0a1->fsspec[http]<2025.0,>=2022.5.0->lightning) (4.0.3)\n",
      "Requirement already satisfied: MarkupSafe>=2.0 in f:\\software\\anaconda\\envs\\deeplearning-env\\lib\\site-packages (from jinja2->torch<4.0,>=1.12.0->lightning) (2.1.1)\n",
      "Requirement already satisfied: charset-normalizer<4,>=2 in f:\\software\\anaconda\\envs\\deeplearning-env\\lib\\site-packages (from requests->fsspec[http]<2025.0,>=2022.5.0->lightning) (2.0.4)\n",
      "Requirement already satisfied: idna<4,>=2.5 in f:\\software\\anaconda\\envs\\deeplearning-env\\lib\\site-packages (from requests->fsspec[http]<2025.0,>=2022.5.0->lightning) (3.4)\n",
      "Requirement already satisfied: urllib3<3,>=1.21.1 in f:\\software\\anaconda\\envs\\deeplearning-env\\lib\\site-packages (from requests->fsspec[http]<2025.0,>=2022.5.0->lightning) (1.26.18)\n",
      "Requirement already satisfied: certifi>=2017.4.17 in f:\\software\\anaconda\\envs\\deeplearning-env\\lib\\site-packages (from requests->fsspec[http]<2025.0,>=2022.5.0->lightning) (2023.11.17)\n",
      "Requirement already satisfied: mpmath>=0.19 in f:\\software\\anaconda\\envs\\deeplearning-env\\lib\\site-packages (from sympy->torch<4.0,>=1.12.0->lightning) (1.3.0)\n",
      "Note: you may need to restart the kernel to use updated packages.\n"
     ]
    }
   ],
   "source": [
    "%pip install pytorch-lightning\n",
    "%pip install lightning"
   ]
  },
  {
   "cell_type": "code",
   "execution_count": 72,
   "id": "6e9efc78-d2ca-4bf2-9af7-59595889494d",
   "metadata": {},
   "outputs": [],
   "source": [
    "import os\n",
    "import warnings\n",
    "warnings.filterwarnings(\"ignore\")  # avoid printing out absolute paths"
   ]
  },
  {
   "cell_type": "code",
   "execution_count": 76,
   "id": "db26b2c6-6c48-434a-b9bd-2753ec74cc6e",
   "metadata": {},
   "outputs": [
    {
     "data": {
      "text/html": [
       "<div>\n",
       "<style scoped>\n",
       "    .dataframe tbody tr th:only-of-type {\n",
       "        vertical-align: middle;\n",
       "    }\n",
       "\n",
       "    .dataframe tbody tr th {\n",
       "        vertical-align: top;\n",
       "    }\n",
       "\n",
       "    .dataframe thead th {\n",
       "        text-align: right;\n",
       "    }\n",
       "</style>\n",
       "<table border=\"1\" class=\"dataframe\">\n",
       "  <thead>\n",
       "    <tr style=\"text-align: right;\">\n",
       "      <th></th>\n",
       "      <th>VM</th>\n",
       "      <th>Timestamp [ms]</th>\n",
       "      <th>time_idx</th>\n",
       "      <th>Memory usage [%]</th>\n",
       "    </tr>\n",
       "  </thead>\n",
       "  <tbody>\n",
       "    <tr>\n",
       "      <th>0</th>\n",
       "      <td>VM001</td>\n",
       "      <td>1372629804</td>\n",
       "      <td>1</td>\n",
       "      <td>12.588394</td>\n",
       "    </tr>\n",
       "    <tr>\n",
       "      <th>1</th>\n",
       "      <td>VM001</td>\n",
       "      <td>1372630104</td>\n",
       "      <td>2</td>\n",
       "      <td>5.579711</td>\n",
       "    </tr>\n",
       "    <tr>\n",
       "      <th>2</th>\n",
       "      <td>VM001</td>\n",
       "      <td>1372630404</td>\n",
       "      <td>3</td>\n",
       "      <td>2.245485</td>\n",
       "    </tr>\n",
       "    <tr>\n",
       "      <th>3</th>\n",
       "      <td>VM001</td>\n",
       "      <td>1372630704</td>\n",
       "      <td>4</td>\n",
       "      <td>0.952620</td>\n",
       "    </tr>\n",
       "    <tr>\n",
       "      <th>4</th>\n",
       "      <td>VM001</td>\n",
       "      <td>1372631004</td>\n",
       "      <td>5</td>\n",
       "      <td>2.041364</td>\n",
       "    </tr>\n",
       "  </tbody>\n",
       "</table>\n",
       "</div>"
      ],
      "text/plain": [
       "      VM  Timestamp [ms]  time_idx  Memory usage [%]\n",
       "0  VM001      1372629804         1         12.588394\n",
       "1  VM001      1372630104         2          5.579711\n",
       "2  VM001      1372630404         3          2.245485\n",
       "3  VM001      1372630704         4          0.952620\n",
       "4  VM001      1372631004         5          2.041364"
      ]
     },
     "execution_count": 76,
     "metadata": {},
     "output_type": "execute_result"
    }
   ],
   "source": [
    "import copy\n",
    "from pathlib import Path\n",
    "import warnings\n",
    "\n",
    "import lightning.pytorch as pl\n",
    "from lightning.pytorch.callbacks import EarlyStopping, LearningRateMonitor\n",
    "from lightning.pytorch.loggers import TensorBoardLogger\n",
    "import numpy as np\n",
    "import pandas as pd\n",
    "import torch\n",
    "\n",
    "from pytorch_forecasting import Baseline, NHiTS, TimeSeriesDataSet\n",
    "from pytorch_forecasting.data import GroupNormalizer\n",
    "from pytorch_forecasting.metrics import MAE, SMAPE, PoissonLoss, QuantileLoss\n",
    "\n",
    "# List of columns you want to read\n",
    "selected_columns = [\"VM\", \"Timestamp [ms]\", \"Memory usage [%]\", \"time_idx\"]\n",
    "\n",
    "file_path = 'bitbrains_structured_data.csv'\n",
    "df = pd.read_csv(file_path, usecols=selected_columns)\n",
    "df.head(5)"
   ]
  },
  {
   "cell_type": "code",
   "execution_count": 77,
   "id": "26329e73-df02-48a0-81dc-1f3b76d31d4c",
   "metadata": {},
   "outputs": [],
   "source": [
    "from pytorch_forecasting.data import NaNLabelEncoder\n",
    "\n",
    "max_prediction_length = 64\n",
    "max_encoder_length = 256\n",
    "training_cutoff = df[\"time_idx\"].max() - max_prediction_length\n",
    "\n",
    "\n",
    "context_length = max_encoder_length\n",
    "prediction_length = max_prediction_length\n",
    "\n",
    "training = TimeSeriesDataSet(\n",
    "    df[lambda x: x.time_idx <= training_cutoff],\n",
    "    time_idx=\"time_idx\",\n",
    "    target=\"Memory usage [%]\",\n",
    "    group_ids=[\"VM\"],\n",
    "    categorical_encoders={\"VM\": NaNLabelEncoder().fit(df.VM)},\n",
    "    # only unknown variable is \"value\" - and N-HiTS can also not take any additional variables\n",
    "    time_varying_unknown_reals=['Memory usage [%]'],\n",
    "    max_encoder_length=context_length,\n",
    "    max_prediction_length=prediction_length,\n",
    "    allow_missing_timesteps= True,\n",
    ")\n",
    "\n",
    "validation = TimeSeriesDataSet.from_dataset(training, df, min_prediction_idx=training_cutoff + 1)\n",
    "batch_size = 128\n",
    "train_dataloader = training.to_dataloader(train=True, batch_size=batch_size, num_workers=0)\n",
    "val_dataloader = validation.to_dataloader(train=False, batch_size=batch_size, num_workers=0)"
   ]
  },
  {
   "cell_type": "code",
   "execution_count": 78,
   "id": "dca21716-f576-40d8-91da-ef525c6be826",
   "metadata": {
    "scrolled": true
   },
   "outputs": [
    {
     "data": {
      "text/plain": [
       "{'time_idx': 'time_idx',\n",
       " 'target': 'Memory usage [%]',\n",
       " 'group_ids': ['VM'],\n",
       " 'weight': None,\n",
       " 'max_encoder_length': 256,\n",
       " 'min_encoder_length': 256,\n",
       " 'min_prediction_idx': 1,\n",
       " 'min_prediction_length': 64,\n",
       " 'max_prediction_length': 64,\n",
       " 'static_categoricals': [],\n",
       " 'static_reals': [],\n",
       " 'time_varying_known_categoricals': [],\n",
       " 'time_varying_known_reals': [],\n",
       " 'time_varying_unknown_categoricals': [],\n",
       " 'time_varying_unknown_reals': ['Memory usage [%]'],\n",
       " 'variable_groups': {},\n",
       " 'constant_fill_strategy': {},\n",
       " 'allow_missing_timesteps': True,\n",
       " 'lags': {},\n",
       " 'add_relative_time_idx': False,\n",
       " 'add_target_scales': False,\n",
       " 'add_encoder_length': False,\n",
       " 'target_normalizer': EncoderNormalizer(\n",
       " \tmethod='standard',\n",
       " \tcenter=True,\n",
       " \tmax_length=None,\n",
       " \ttransformation=None,\n",
       " \tmethod_kwargs={}\n",
       " ),\n",
       " 'categorical_encoders': {'VM': NaNLabelEncoder(add_nan=False, warn=True),\n",
       "  '__group_id__VM': NaNLabelEncoder(add_nan=False, warn=True)},\n",
       " 'scalers': {},\n",
       " 'randomize_length': None,\n",
       " 'predict_mode': False}"
      ]
     },
     "execution_count": 78,
     "metadata": {},
     "output_type": "execute_result"
    }
   ],
   "source": [
    "training.get_parameters()"
   ]
  },
  {
   "cell_type": "code",
   "execution_count": 79,
   "id": "bc071102-8dfe-4a9e-8dba-5ac86f66ae0b",
   "metadata": {},
   "outputs": [
    {
     "name": "stderr",
     "output_type": "stream",
     "text": [
      "GPU available: False, used: False\n",
      "TPU available: False, using: 0 TPU cores\n",
      "IPU available: False, using: 0 IPUs\n",
      "HPU available: False, using: 0 HPUs\n"
     ]
    },
    {
     "data": {
      "text/plain": [
       "tensor(0.1390)"
      ]
     },
     "execution_count": 79,
     "metadata": {},
     "output_type": "execute_result"
    }
   ],
   "source": [
    "# calculate baseline absolute error\n",
    "baseline_predictions = Baseline().predict(val_dataloader, trainer_kwargs=dict(accelerator=\"cpu\"), return_y=True)\n",
    "MAE()(baseline_predictions.output, baseline_predictions.y)"
   ]
  },
  {
   "cell_type": "code",
   "execution_count": 97,
   "id": "df749783-2872-4baf-9b2e-ed2678416fa3",
   "metadata": {},
   "outputs": [
    {
     "name": "stderr",
     "output_type": "stream",
     "text": [
      "Seed set to 42\n",
      "GPU available: False, used: False\n",
      "TPU available: False, using: 0 TPU cores\n",
      "IPU available: False, using: 0 IPUs\n",
      "HPU available: False, using: 0 HPUs\n"
     ]
    },
    {
     "data": {
      "application/vnd.jupyter.widget-view+json": {
       "model_id": "bb01d8e8e3354ae8bc94cf6b913d98e7",
       "version_major": 2,
       "version_minor": 0
      },
      "text/plain": [
       "Finding best initial lr:   0%|          | 0/100 [00:00<?, ?it/s]"
      ]
     },
     "metadata": {},
     "output_type": "display_data"
    },
    {
     "name": "stderr",
     "output_type": "stream",
     "text": [
      "LR finder stopped early after 2 steps due to diverging loss.\n",
      "Failed to compute suggestion for learning rate because there are not enough points. Increase the loop iteration limits or the size of your dataset/dataloader.\n",
      "Restoring states from the checkpoint path at F:\\University\\Master's Thesis\\Datasets\\rnd\\.lr_find_0fb5e943-19f8-49c8-9ec7-cfe1ceb2f0a6.ckpt\n",
      "Restored all states from the checkpoint at F:\\University\\Master's Thesis\\Datasets\\rnd\\.lr_find_0fb5e943-19f8-49c8-9ec7-cfe1ceb2f0a6.ckpt\n",
      "Failed to compute suggestion for learning rate because there are not enough points. Increase the loop iteration limits or the size of your dataset/dataloader.\n",
      "Failed to compute suggestion for learning rate because there are not enough points. Increase the loop iteration limits or the size of your dataset/dataloader.\n"
     ]
    },
    {
     "name": "stdout",
     "output_type": "stream",
     "text": [
      "suggested learning rate: None\n"
     ]
    },
    {
     "data": {
      "image/png": "[encoded data removed]",
      "text/plain": [
       "<Figure size 640x480 with 1 Axes>"
      ]
     },
     "metadata": {},
     "output_type": "display_data"
    },
    {
     "name": "stderr",
     "output_type": "stream",
     "text": [
      "Failed to compute suggestion for learning rate because there are not enough points. Increase the loop iteration limits or the size of your dataset/dataloader.\n"
     ]
    }
   ],
   "source": [
    "from pytorch_forecasting.metrics import MQF2DistributionLoss\n",
    "\n",
    "pl.seed_everything(42)\n",
    "trainer = pl.Trainer(accelerator=\"cpu\", gradient_clip_val=0.1)\n",
    "net = NHiTS.from_dataset(\n",
    "    training,\n",
    "    learning_rate=3e-2,\n",
    "    weight_decay=1e-2,\n",
    "    loss=QuantileLoss(),\n",
    "    backcast_loss_ratio=0.0,\n",
    "    hidden_size=64,\n",
    "    optimizer=\"AdamW\",\n",
    ")\n",
    "\n",
    "# find optimal learning rate\n",
    "from lightning.pytorch.tuner import Tuner\n",
    "\n",
    "res = Tuner(trainer).lr_find(\n",
    "    net, train_dataloaders=train_dataloader, val_dataloaders=val_dataloader, min_lr=1e-5, max_lr=1e-1\n",
    ")\n",
    "print(f\"suggested learning rate: {res.suggestion()}\")\n",
    "fig = res.plot(show=True, suggest=True)\n",
    "fig.show()\n",
    "net.hparams.learning_rate = res.suggestion()"
   ]
  },
  {
   "cell_type": "code",
   "execution_count": 82,
   "id": "32f99aa5-37a5-4211-8ecd-42c54aa296a6",
   "metadata": {},
   "outputs": [
    {
     "name": "stderr",
     "output_type": "stream",
     "text": [
      "GPU available: False, used: False\n",
      "TPU available: False, using: 0 TPU cores\n",
      "IPU available: False, using: 0 IPUs\n",
      "HPU available: False, using: 0 HPUs\n"
     ]
    }
   ],
   "source": [
    "early_stop_callback = EarlyStopping(monitor=\"val_loss\", min_delta=1e-4, patience=10, verbose=False, mode=\"min\")\n",
    "trainer = pl.Trainer(\n",
    "    max_epochs=30,\n",
    "    accelerator=\"cpu\",\n",
    "    enable_model_summary=True,\n",
    "    gradient_clip_val=1.0,\n",
    "    callbacks=[early_stop_callback],\n",
    "    limit_train_batches=30,\n",
    "    enable_checkpointing=True,\n",
    ")\n",
    "\n",
    "\n",
    "net = NHiTS.from_dataset(\n",
    "    training,\n",
    "    learning_rate=1.2e-3,\n",
    "    log_interval=10,\n",
    "    log_val_interval=1,\n",
    "    weight_decay=1e-2,\n",
    "    backcast_loss_ratio=0.0,\n",
    "    hidden_size=64,\n",
    "    optimizer=\"AdamW\",\n",
    "    loss=MQF2DistributionLoss(prediction_length=max_prediction_length),\n",
    ")"
   ]
  },
  {
   "cell_type": "code",
   "execution_count": 83,
   "id": "ecde0c36-049d-4ae0-b606-a410d57bf277",
   "metadata": {},
   "outputs": [
    {
     "name": "stderr",
     "output_type": "stream",
     "text": [
      "\n",
      "  | Name            | Type                 | Params\n",
      "---------------------------------------------------------\n",
      "0 | loss            | MQF2DistributionLoss | 12.3 K\n",
      "1 | logging_metrics | ModuleList           | 0     \n",
      "2 | embeddings      | MultiEmbedding       | 0     \n",
      "3 | model           | NHiTS                | 99.0 K\n",
      "---------------------------------------------------------\n",
      "111 K     Trainable params\n",
      "0         Non-trainable params\n",
      "111 K     Total params\n",
      "0.445     Total estimated model params size (MB)\n"
     ]
    },
    {
     "data": {
      "application/vnd.jupyter.widget-view+json": {
       "model_id": "",
       "version_major": 2,
       "version_minor": 0
      },
      "text/plain": [
       "Sanity Checking: |                                               | 0/? [00:00<?, ?it/s]"
      ]
     },
     "metadata": {},
     "output_type": "display_data"
    },
    {
     "data": {
      "application/vnd.jupyter.widget-view+json": {
       "model_id": "6458524dee3943389138068ab19d6367",
       "version_major": 2,
       "version_minor": 0
      },
      "text/plain": [
       "Training: |                                                      | 0/? [00:00<?, ?it/s]"
      ]
     },
     "metadata": {},
     "output_type": "display_data"
    },
    {
     "data": {
      "application/vnd.jupyter.widget-view+json": {
       "model_id": "",
       "version_major": 2,
       "version_minor": 0
      },
      "text/plain": [
       "Validation: |                                                    | 0/? [00:00<?, ?it/s]"
      ]
     },
     "metadata": {},
     "output_type": "display_data"
    },
    {
     "data": {
      "application/vnd.jupyter.widget-view+json": {
       "model_id": "",
       "version_major": 2,
       "version_minor": 0
      },
      "text/plain": [
       "Validation: |                                                    | 0/? [00:00<?, ?it/s]"
      ]
     },
     "metadata": {},
     "output_type": "display_data"
    },
    {
     "data": {
      "application/vnd.jupyter.widget-view+json": {
       "model_id": "",
       "version_major": 2,
       "version_minor": 0
      },
      "text/plain": [
       "Validation: |                                                    | 0/? [00:00<?, ?it/s]"
      ]
     },
     "metadata": {},
     "output_type": "display_data"
    },
    {
     "data": {
      "application/vnd.jupyter.widget-view+json": {
       "model_id": "",
       "version_major": 2,
       "version_minor": 0
      },
      "text/plain": [
       "Validation: |                                                    | 0/? [00:00<?, ?it/s]"
      ]
     },
     "metadata": {},
     "output_type": "display_data"
    },
    {
     "data": {
      "application/vnd.jupyter.widget-view+json": {
       "model_id": "",
       "version_major": 2,
       "version_minor": 0
      },
      "text/plain": [
       "Validation: |                                                    | 0/? [00:00<?, ?it/s]"
      ]
     },
     "metadata": {},
     "output_type": "display_data"
    },
    {
     "data": {
      "application/vnd.jupyter.widget-view+json": {
       "model_id": "",
       "version_major": 2,
       "version_minor": 0
      },
      "text/plain": [
       "Validation: |                                                    | 0/? [00:00<?, ?it/s]"
      ]
     },
     "metadata": {},
     "output_type": "display_data"
    },
    {
     "data": {
      "application/vnd.jupyter.widget-view+json": {
       "model_id": "",
       "version_major": 2,
       "version_minor": 0
      },
      "text/plain": [
       "Validation: |                                                    | 0/? [00:00<?, ?it/s]"
      ]
     },
     "metadata": {},
     "output_type": "display_data"
    },
    {
     "data": {
      "application/vnd.jupyter.widget-view+json": {
       "model_id": "",
       "version_major": 2,
       "version_minor": 0
      },
      "text/plain": [
       "Validation: |                                                    | 0/? [00:00<?, ?it/s]"
      ]
     },
     "metadata": {},
     "output_type": "display_data"
    },
    {
     "data": {
      "application/vnd.jupyter.widget-view+json": {
       "model_id": "",
       "version_major": 2,
       "version_minor": 0
      },
      "text/plain": [
       "Validation: |                                                    | 0/? [00:00<?, ?it/s]"
      ]
     },
     "metadata": {},
     "output_type": "display_data"
    },
    {
     "data": {
      "application/vnd.jupyter.widget-view+json": {
       "model_id": "",
       "version_major": 2,
       "version_minor": 0
      },
      "text/plain": [
       "Validation: |                                                    | 0/? [00:00<?, ?it/s]"
      ]
     },
     "metadata": {},
     "output_type": "display_data"
    },
    {
     "data": {
      "application/vnd.jupyter.widget-view+json": {
       "model_id": "",
       "version_major": 2,
       "version_minor": 0
      },
      "text/plain": [
       "Validation: |                                                    | 0/? [00:00<?, ?it/s]"
      ]
     },
     "metadata": {},
     "output_type": "display_data"
    },
    {
     "data": {
      "application/vnd.jupyter.widget-view+json": {
       "model_id": "",
       "version_major": 2,
       "version_minor": 0
      },
      "text/plain": [
       "Validation: |                                                    | 0/? [00:00<?, ?it/s]"
      ]
     },
     "metadata": {},
     "output_type": "display_data"
    },
    {
     "data": {
      "application/vnd.jupyter.widget-view+json": {
       "model_id": "",
       "version_major": 2,
       "version_minor": 0
      },
      "text/plain": [
       "Validation: |                                                    | 0/? [00:00<?, ?it/s]"
      ]
     },
     "metadata": {},
     "output_type": "display_data"
    },
    {
     "data": {
      "application/vnd.jupyter.widget-view+json": {
       "model_id": "",
       "version_major": 2,
       "version_minor": 0
      },
      "text/plain": [
       "Validation: |                                                    | 0/? [00:00<?, ?it/s]"
      ]
     },
     "metadata": {},
     "output_type": "display_data"
    },
    {
     "data": {
      "application/vnd.jupyter.widget-view+json": {
       "model_id": "",
       "version_major": 2,
       "version_minor": 0
      },
      "text/plain": [
       "Validation: |                                                    | 0/? [00:00<?, ?it/s]"
      ]
     },
     "metadata": {},
     "output_type": "display_data"
    },
    {
     "data": {
      "application/vnd.jupyter.widget-view+json": {
       "model_id": "",
       "version_major": 2,
       "version_minor": 0
      },
      "text/plain": [
       "Validation: |                                                    | 0/? [00:00<?, ?it/s]"
      ]
     },
     "metadata": {},
     "output_type": "display_data"
    },
    {
     "data": {
      "application/vnd.jupyter.widget-view+json": {
       "model_id": "",
       "version_major": 2,
       "version_minor": 0
      },
      "text/plain": [
       "Validation: |                                                    | 0/? [00:00<?, ?it/s]"
      ]
     },
     "metadata": {},
     "output_type": "display_data"
    },
    {
     "data": {
      "application/vnd.jupyter.widget-view+json": {
       "model_id": "",
       "version_major": 2,
       "version_minor": 0
      },
      "text/plain": [
       "Validation: |                                                    | 0/? [00:00<?, ?it/s]"
      ]
     },
     "metadata": {},
     "output_type": "display_data"
    },
    {
     "data": {
      "application/vnd.jupyter.widget-view+json": {
       "model_id": "",
       "version_major": 2,
       "version_minor": 0
      },
      "text/plain": [
       "Validation: |                                                    | 0/? [00:00<?, ?it/s]"
      ]
     },
     "metadata": {},
     "output_type": "display_data"
    },
    {
     "data": {
      "application/vnd.jupyter.widget-view+json": {
       "model_id": "",
       "version_major": 2,
       "version_minor": 0
      },
      "text/plain": [
       "Validation: |                                                    | 0/? [00:00<?, ?it/s]"
      ]
     },
     "metadata": {},
     "output_type": "display_data"
    },
    {
     "data": {
      "application/vnd.jupyter.widget-view+json": {
       "model_id": "",
       "version_major": 2,
       "version_minor": 0
      },
      "text/plain": [
       "Validation: |                                                    | 0/? [00:00<?, ?it/s]"
      ]
     },
     "metadata": {},
     "output_type": "display_data"
    },
    {
     "data": {
      "application/vnd.jupyter.widget-view+json": {
       "model_id": "",
       "version_major": 2,
       "version_minor": 0
      },
      "text/plain": [
       "Validation: |                                                    | 0/? [00:00<?, ?it/s]"
      ]
     },
     "metadata": {},
     "output_type": "display_data"
    },
    {
     "data": {
      "application/vnd.jupyter.widget-view+json": {
       "model_id": "",
       "version_major": 2,
       "version_minor": 0
      },
      "text/plain": [
       "Validation: |                                                    | 0/? [00:00<?, ?it/s]"
      ]
     },
     "metadata": {},
     "output_type": "display_data"
    },
    {
     "data": {
      "application/vnd.jupyter.widget-view+json": {
       "model_id": "",
       "version_major": 2,
       "version_minor": 0
      },
      "text/plain": [
       "Validation: |                                                    | 0/? [00:00<?, ?it/s]"
      ]
     },
     "metadata": {},
     "output_type": "display_data"
    },
    {
     "data": {
      "application/vnd.jupyter.widget-view+json": {
       "model_id": "",
       "version_major": 2,
       "version_minor": 0
      },
      "text/plain": [
       "Validation: |                                                    | 0/? [00:00<?, ?it/s]"
      ]
     },
     "metadata": {},
     "output_type": "display_data"
    },
    {
     "data": {
      "application/vnd.jupyter.widget-view+json": {
       "model_id": "",
       "version_major": 2,
       "version_minor": 0
      },
      "text/plain": [
       "Validation: |                                                    | 0/? [00:00<?, ?it/s]"
      ]
     },
     "metadata": {},
     "output_type": "display_data"
    },
    {
     "data": {
      "application/vnd.jupyter.widget-view+json": {
       "model_id": "",
       "version_major": 2,
       "version_minor": 0
      },
      "text/plain": [
       "Validation: |                                                    | 0/? [00:00<?, ?it/s]"
      ]
     },
     "metadata": {},
     "output_type": "display_data"
    },
    {
     "data": {
      "application/vnd.jupyter.widget-view+json": {
       "model_id": "",
       "version_major": 2,
       "version_minor": 0
      },
      "text/plain": [
       "Validation: |                                                    | 0/? [00:00<?, ?it/s]"
      ]
     },
     "metadata": {},
     "output_type": "display_data"
    },
    {
     "data": {
      "application/vnd.jupyter.widget-view+json": {
       "model_id": "",
       "version_major": 2,
       "version_minor": 0
      },
      "text/plain": [
       "Validation: |                                                    | 0/? [00:00<?, ?it/s]"
      ]
     },
     "metadata": {},
     "output_type": "display_data"
    },
    {
     "data": {
      "application/vnd.jupyter.widget-view+json": {
       "model_id": "",
       "version_major": 2,
       "version_minor": 0
      },
      "text/plain": [
       "Validation: |                                                    | 0/? [00:00<?, ?it/s]"
      ]
     },
     "metadata": {},
     "output_type": "display_data"
    },
    {
     "name": "stderr",
     "output_type": "stream",
     "text": [
      "`Trainer.fit` stopped: `max_epochs=30` reached.\n"
     ]
    }
   ],
   "source": [
    "trainer.fit(\n",
    "    net,\n",
    "    train_dataloaders=train_dataloader,\n",
    "    val_dataloaders=val_dataloader,\n",
    ")"
   ]
  },
  {
   "cell_type": "code",
   "execution_count": 84,
   "id": "d6f0f1b7-1989-4ec0-8405-04ad996f3d51",
   "metadata": {},
   "outputs": [],
   "source": [
    "best_model_path = trainer.checkpoint_callback.best_model_path\n",
    "best_model = NHiTS.load_from_checkpoint(best_model_path)"
   ]
  },
  {
   "cell_type": "code",
   "execution_count": 85,
   "id": "f6f55226-21e7-42b8-8a16-c557cd958d0f",
   "metadata": {},
   "outputs": [],
   "source": [
    "# Saving the model to disk\n",
    "import pickle\n",
    "\n",
    "# save study results - also we can resume tuning at a later point in time\n",
    "with open(\"nhits_bitbrains_v1.pkl\", \"wb\") as fout:\n",
    "    pickle.dump(best_model, fout)"
   ]
  },
  {
   "cell_type": "code",
   "execution_count": 86,
   "id": "bf2f8ca4-aef7-437a-943c-7efbff9916e3",
   "metadata": {},
   "outputs": [],
   "source": [
    "import pickle\n",
    "\n",
    "with open(\"nhits_bitbrains_v1.pkl\",'rb') as f:\n",
    "    best_nhits=pickle.load(f)\n",
    "    "
   ]
  },
  {
   "cell_type": "code",
   "execution_count": 91,
   "id": "ec2cfb29-830e-42cf-bd30-2daea850a7ca",
   "metadata": {},
   "outputs": [
    {
     "name": "stderr",
     "output_type": "stream",
     "text": [
      "GPU available: False, used: False\n",
      "TPU available: False, using: 0 TPU cores\n",
      "IPU available: False, using: 0 IPUs\n",
      "HPU available: False, using: 0 HPUs\n"
     ]
    },
    {
     "data": {
      "text/plain": [
       "tensor(0.6516)"
      ]
     },
     "execution_count": 91,
     "metadata": {},
     "output_type": "execute_result"
    }
   ],
   "source": [
    "predictions = best_nhits.predict(val_dataloader, trainer_kwargs=dict(accelerator=\"cpu\"), return_y=True)\n",
    "MAE()(predictions.output, predictions.y)"
   ]
  },
  {
   "cell_type": "code",
   "execution_count": 96,
   "id": "a86d50c6-018e-4494-95ea-9831b38e3609",
   "metadata": {},
   "outputs": [
    {
     "name": "stderr",
     "output_type": "stream",
     "text": [
      "GPU available: False, used: False\n",
      "TPU available: False, using: 0 TPU cores\n",
      "IPU available: False, using: 0 IPUs\n",
      "HPU available: False, using: 0 HPUs\n"
     ]
    },
    {
     "ename": "IndexError",
     "evalue": "index 3 is out of bounds for dimension 0 with size 1",
     "output_type": "error",
     "traceback": [
      "\u001b[1;31m---------------------------------------------------------------------------\u001b[0m",
      "\u001b[1;31mIndexError\u001b[0m                                Traceback (most recent call last)",
      "Cell \u001b[1;32mIn[96], line 3\u001b[0m\n\u001b[0;32m      1\u001b[0m raw_predictions \u001b[38;5;241m=\u001b[39m best_nhits\u001b[38;5;241m.\u001b[39mpredict(val_dataloader, mode\u001b[38;5;241m=\u001b[39m\u001b[38;5;124m\"\u001b[39m\u001b[38;5;124mraw\u001b[39m\u001b[38;5;124m\"\u001b[39m, return_x\u001b[38;5;241m=\u001b[39m\u001b[38;5;28;01mTrue\u001b[39;00m, trainer_kwargs\u001b[38;5;241m=\u001b[39m\u001b[38;5;28mdict\u001b[39m(accelerator\u001b[38;5;241m=\u001b[39m\u001b[38;5;124m\"\u001b[39m\u001b[38;5;124mcpu\u001b[39m\u001b[38;5;124m\"\u001b[39m))\n\u001b[1;32m----> 3\u001b[0m \u001b[43mbest_nhits\u001b[49m\u001b[38;5;241;43m.\u001b[39;49m\u001b[43mplot_prediction\u001b[49m\u001b[43m(\u001b[49m\u001b[43mraw_predictions\u001b[49m\u001b[38;5;241;43m.\u001b[39;49m\u001b[43mx\u001b[49m\u001b[43m,\u001b[49m\u001b[43m \u001b[49m\u001b[43mraw_predictions\u001b[49m\u001b[38;5;241;43m.\u001b[39;49m\u001b[43moutput\u001b[49m\u001b[43m,\u001b[49m\u001b[43m \u001b[49m\u001b[43midx\u001b[49m\u001b[38;5;241;43m=\u001b[39;49m\u001b[38;5;241;43m3\u001b[39;49m\u001b[43m,\u001b[49m\u001b[43m \u001b[49m\u001b[43madd_loss_to_title\u001b[49m\u001b[38;5;241;43m=\u001b[39;49m\u001b[38;5;28;43;01mTrue\u001b[39;49;00m\u001b[43m)\u001b[49m\n",
      "File \u001b[1;32mF:\\Software\\Anaconda\\envs\\deeplearning-env\\lib\\site-packages\\pytorch_forecasting\\models\\base_model.py:999\u001b[0m, in \u001b[0;36mBaseModel.plot_prediction\u001b[1;34m(self, x, out, idx, add_loss_to_title, show_future_observed, ax, quantiles_kwargs, prediction_kwargs)\u001b[0m\n\u001b[0;32m    995\u001b[0m figs \u001b[38;5;241m=\u001b[39m []\n\u001b[0;32m    996\u001b[0m \u001b[38;5;28;01mfor\u001b[39;00m y_raw, y_hat, y_quantile, encoder_target, decoder_target \u001b[38;5;129;01min\u001b[39;00m \u001b[38;5;28mzip\u001b[39m(\n\u001b[0;32m    997\u001b[0m     y_raws, y_hats, y_quantiles, encoder_targets, decoder_targets\n\u001b[0;32m    998\u001b[0m ):\n\u001b[1;32m--> 999\u001b[0m     y_all \u001b[38;5;241m=\u001b[39m torch\u001b[38;5;241m.\u001b[39mcat([\u001b[43mencoder_target\u001b[49m\u001b[43m[\u001b[49m\u001b[43midx\u001b[49m\u001b[43m]\u001b[49m, decoder_target[idx]])\n\u001b[0;32m   1000\u001b[0m     max_encoder_length \u001b[38;5;241m=\u001b[39m x[\u001b[38;5;124m\"\u001b[39m\u001b[38;5;124mencoder_lengths\u001b[39m\u001b[38;5;124m\"\u001b[39m]\u001b[38;5;241m.\u001b[39mmax()\n\u001b[0;32m   1001\u001b[0m     y \u001b[38;5;241m=\u001b[39m torch\u001b[38;5;241m.\u001b[39mcat(\n\u001b[0;32m   1002\u001b[0m         (\n\u001b[0;32m   1003\u001b[0m             y_all[: x[\u001b[38;5;124m\"\u001b[39m\u001b[38;5;124mencoder_lengths\u001b[39m\u001b[38;5;124m\"\u001b[39m][idx]],\n\u001b[0;32m   1004\u001b[0m             y_all[max_encoder_length : (max_encoder_length \u001b[38;5;241m+\u001b[39m x[\u001b[38;5;124m\"\u001b[39m\u001b[38;5;124mdecoder_lengths\u001b[39m\u001b[38;5;124m\"\u001b[39m][idx])],\n\u001b[0;32m   1005\u001b[0m         ),\n\u001b[0;32m   1006\u001b[0m     )\n",
      "\u001b[1;31mIndexError\u001b[0m: index 3 is out of bounds for dimension 0 with size 1"
     ]
    }
   ],
   "source": [
    "raw_predictions = best_nhits.predict(val_dataloader, mode=\"raw\", return_x=True, trainer_kwargs=dict(accelerator=\"cpu\"))\n",
    "\n",
    "best_nhits.plot_prediction(raw_predictions.x, raw_predictions.output, idx=3, add_loss_to_title=True)"
   ]
  },
  {
   "cell_type": "code",
   "execution_count": 90,
   "id": "cba528f0-475f-4f8a-8c5d-20dcb80c134b",
   "metadata": {
    "scrolled": true
   },
   "outputs": [
    {
     "ename": "IndexError",
     "evalue": "index 1 is out of bounds for dimension 0 with size 1",
     "output_type": "error",
     "traceback": [
      "\u001b[1;31m---------------------------------------------------------------------------\u001b[0m",
      "\u001b[1;31mIndexError\u001b[0m                                Traceback (most recent call last)",
      "Cell \u001b[1;32mIn[90], line 2\u001b[0m\n\u001b[0;32m      1\u001b[0m \u001b[38;5;28;01mfor\u001b[39;00m idx \u001b[38;5;129;01min\u001b[39;00m \u001b[38;5;28mrange\u001b[39m(\u001b[38;5;241m2\u001b[39m):  \u001b[38;5;66;03m# plot 10 examples\u001b[39;00m\n\u001b[1;32m----> 2\u001b[0m     \u001b[43mbest_nhits\u001b[49m\u001b[38;5;241;43m.\u001b[39;49m\u001b[43mplot_interpretation\u001b[49m\u001b[43m(\u001b[49m\u001b[43mraw_predictions\u001b[49m\u001b[38;5;241;43m.\u001b[39;49m\u001b[43mx\u001b[49m\u001b[43m,\u001b[49m\u001b[43m \u001b[49m\u001b[43mraw_predictions\u001b[49m\u001b[38;5;241;43m.\u001b[39;49m\u001b[43moutput\u001b[49m\u001b[43m,\u001b[49m\u001b[43m \u001b[49m\u001b[43midx\u001b[49m\u001b[38;5;241;43m=\u001b[39;49m\u001b[43midx\u001b[49m\u001b[43m)\u001b[49m\n",
      "File \u001b[1;32mF:\\Software\\Anaconda\\envs\\deeplearning-env\\lib\\site-packages\\pytorch_forecasting\\models\\nhits\\__init__.py:420\u001b[0m, in \u001b[0;36mNHiTS.plot_interpretation\u001b[1;34m(self, x, output, idx, ax)\u001b[0m\n\u001b[0;32m    403\u001b[0m \u001b[38;5;250m\u001b[39m\u001b[38;5;124;03m\"\"\"\u001b[39;00m\n\u001b[0;32m    404\u001b[0m \u001b[38;5;124;03mPlot interpretation.\u001b[39;00m\n\u001b[0;32m    405\u001b[0m \n\u001b[1;32m   (...)\u001b[0m\n\u001b[0;32m    417\u001b[0m \u001b[38;5;124;03m    plt.Figure: matplotlib figure\u001b[39;00m\n\u001b[0;32m    418\u001b[0m \u001b[38;5;124;03m\"\"\"\u001b[39;00m\n\u001b[0;32m    419\u001b[0m \u001b[38;5;28;01mif\u001b[39;00m \u001b[38;5;129;01mnot\u001b[39;00m \u001b[38;5;28misinstance\u001b[39m(\u001b[38;5;28mself\u001b[39m\u001b[38;5;241m.\u001b[39mloss, MultiLoss):  \u001b[38;5;66;03m# not multi-target\u001b[39;00m\n\u001b[1;32m--> 420\u001b[0m     prediction \u001b[38;5;241m=\u001b[39m \u001b[38;5;28mself\u001b[39m\u001b[38;5;241m.\u001b[39mto_prediction(\u001b[38;5;28mdict\u001b[39m(prediction\u001b[38;5;241m=\u001b[39m\u001b[43moutput\u001b[49m\u001b[43m[\u001b[49m\u001b[38;5;124;43m\"\u001b[39;49m\u001b[38;5;124;43mprediction\u001b[39;49m\u001b[38;5;124;43m\"\u001b[39;49m\u001b[43m]\u001b[49m\u001b[43m[\u001b[49m\u001b[43m[\u001b[49m\u001b[43midx\u001b[49m\u001b[43m]\u001b[49m\u001b[43m]\u001b[49m\u001b[38;5;241m.\u001b[39mdetach()))[\u001b[38;5;241m0\u001b[39m]\u001b[38;5;241m.\u001b[39mcpu()\n\u001b[0;32m    421\u001b[0m     block_forecasts \u001b[38;5;241m=\u001b[39m [\n\u001b[0;32m    422\u001b[0m         \u001b[38;5;28mself\u001b[39m\u001b[38;5;241m.\u001b[39mto_prediction(\u001b[38;5;28mdict\u001b[39m(prediction\u001b[38;5;241m=\u001b[39mblock[[idx]]\u001b[38;5;241m.\u001b[39mdetach()))[\u001b[38;5;241m0\u001b[39m]\u001b[38;5;241m.\u001b[39mcpu()\n\u001b[0;32m    423\u001b[0m         \u001b[38;5;28;01mfor\u001b[39;00m block \u001b[38;5;129;01min\u001b[39;00m output[\u001b[38;5;124m\"\u001b[39m\u001b[38;5;124mblock_forecasts\u001b[39m\u001b[38;5;124m\"\u001b[39m]\n\u001b[0;32m    424\u001b[0m     ]\n\u001b[0;32m    425\u001b[0m \u001b[38;5;28;01melif\u001b[39;00m \u001b[38;5;28misinstance\u001b[39m(output[\u001b[38;5;124m\"\u001b[39m\u001b[38;5;124mprediction\u001b[39m\u001b[38;5;124m\"\u001b[39m], (\u001b[38;5;28mtuple\u001b[39m, \u001b[38;5;28mlist\u001b[39m)):  \u001b[38;5;66;03m# multi-target\u001b[39;00m\n",
      "\u001b[1;31mIndexError\u001b[0m: index 1 is out of bounds for dimension 0 with size 1"
     ]
    },
    {
     "data": {
      "image/png": "[encoded data removed]",
      "text/plain": [
       "<Figure size 600x800 with 2 Axes>"
      ]
     },
     "metadata": {},
     "output_type": "display_data"
    }
   ],
   "source": [
    "for idx in range(2):  # plot 10 examples\n",
    "    best_nhits.plot_interpretation(raw_predictions.x, raw_predictions.output, idx=idx)"
   ]
  },
  {
   "cell_type": "code",
   "execution_count": 43,
   "id": "57f9373d-fa30-458d-917b-7a3637767b75",
   "metadata": {},
   "outputs": [
    {
     "ename": "ValueError",
     "evalue": "After applying filter no sub-sequences left in dataset",
     "output_type": "error",
     "traceback": [
      "\u001b[1;31m---------------------------------------------------------------------------\u001b[0m",
      "\u001b[1;31mValueError\u001b[0m                                Traceback (most recent call last)",
      "Cell \u001b[1;32mIn[43], line 2\u001b[0m\n\u001b[0;32m      1\u001b[0m raw_prediction \u001b[38;5;241m=\u001b[39m best_nhits\u001b[38;5;241m.\u001b[39mpredict(\n\u001b[1;32m----> 2\u001b[0m     \u001b[43mtraining\u001b[49m\u001b[38;5;241;43m.\u001b[39;49m\u001b[43mfilter\u001b[49m\u001b[43m(\u001b[49m\u001b[38;5;28;43;01mlambda\u001b[39;49;00m\u001b[43m \u001b[49m\u001b[43mx\u001b[49m\u001b[43m:\u001b[49m\u001b[43m \u001b[49m\u001b[43m(\u001b[49m\u001b[43mx\u001b[49m\u001b[43m[\u001b[49m\u001b[38;5;124;43m\"\u001b[39;49m\u001b[38;5;124;43mVM\u001b[39;49m\u001b[38;5;124;43m\"\u001b[39;49m\u001b[43m]\u001b[49m\u001b[43m \u001b[49m\u001b[38;5;241;43m==\u001b[39;49m\u001b[43m \u001b[49m\u001b[38;5;124;43m\"\u001b[39;49m\u001b[38;5;124;43mVM142\u001b[39;49m\u001b[38;5;124;43m\"\u001b[39;49m\u001b[43m)\u001b[49m\u001b[43m)\u001b[49m,\n\u001b[0;32m      3\u001b[0m     mode\u001b[38;5;241m=\u001b[39m\u001b[38;5;124m\"\u001b[39m\u001b[38;5;124mraw\u001b[39m\u001b[38;5;124m\"\u001b[39m,\n\u001b[0;32m      4\u001b[0m     return_x\u001b[38;5;241m=\u001b[39m\u001b[38;5;28;01mTrue\u001b[39;00m,\n\u001b[0;32m      5\u001b[0m )\n\u001b[0;32m      6\u001b[0m best_nhits\u001b[38;5;241m.\u001b[39mplot_prediction(raw_prediction\u001b[38;5;241m.\u001b[39mx, raw_prediction\u001b[38;5;241m.\u001b[39moutput, idx\u001b[38;5;241m=\u001b[39m\u001b[38;5;241m0\u001b[39m)\n",
      "File \u001b[1;32mF:\\Software\\Anaconda\\envs\\deeplearning-env\\lib\\site-packages\\pytorch_forecasting\\data\\timeseries.py:1314\u001b[0m, in \u001b[0;36mTimeSeriesDataSet.filter\u001b[1;34m(self, filter_func, copy)\u001b[0m\n\u001b[0;32m   1312\u001b[0m \u001b[38;5;66;03m# raise error if filter removes all entries\u001b[39;00m\n\u001b[0;32m   1313\u001b[0m \u001b[38;5;28;01mif\u001b[39;00m \u001b[38;5;28mlen\u001b[39m(filtered_index) \u001b[38;5;241m==\u001b[39m \u001b[38;5;241m0\u001b[39m:\n\u001b[1;32m-> 1314\u001b[0m     \u001b[38;5;28;01mraise\u001b[39;00m \u001b[38;5;167;01mValueError\u001b[39;00m(\u001b[38;5;124m\"\u001b[39m\u001b[38;5;124mAfter applying filter no sub-sequences left in dataset\u001b[39m\u001b[38;5;124m\"\u001b[39m)\n\u001b[0;32m   1315\u001b[0m \u001b[38;5;28;01mif\u001b[39;00m copy:\n\u001b[0;32m   1316\u001b[0m     dataset \u001b[38;5;241m=\u001b[39m _copy(\u001b[38;5;28mself\u001b[39m)\n",
      "\u001b[1;31mValueError\u001b[0m: After applying filter no sub-sequences left in dataset"
     ]
    }
   ],
   "source": [
    "raw_prediction = best_nhits.predict(\n",
    "    training.filter(lambda x: (x[\"VM\"] == \"VM142\")),\n",
    "    mode=\"raw\",\n",
    "    return_x=True,\n",
    ")\n",
    "best_nhits.plot_prediction(raw_prediction.x, raw_prediction.output, idx=0)"
   ]
  },
  {
   "cell_type": "code",
   "execution_count": null,
   "id": "95bae909-f0c9-44aa-86b6-c05e48bee128",
   "metadata": {},
   "outputs": [],
   "source": []
  }
 ],
 "metadata": {
  "kernelspec": {
   "display_name": "Python 3 (ipykernel)",
   "language": "python",
   "name": "python3"
  },
  "language_info": {
   "codemirror_mode": {
    "name": "ipython",
    "version": 3
   },
   "file_extension": ".py",
   "mimetype": "text/x-python",
   "name": "python",
   "nbconvert_exporter": "python",
   "pygments_lexer": "ipython3",
   "version": "3.10.0"
  }
 },
 "nbformat": 4,
 "nbformat_minor": 5
}
